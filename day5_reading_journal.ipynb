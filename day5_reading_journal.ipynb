{
 "cells": [
  {
   "cell_type": "markdown",
   "metadata": {},
   "source": [
    "# Day 5 Reading Journal\n",
    "\n",
    "This journal includes several required exercises, but it is meant to encourage active reading more generally.  You should use the journal to take detailed notes, catalog questions, and explore the content from Think Python deeply.\n",
    "\n",
    "Reading: Think Python Chapter 4\n",
    "\n",
    "**Due: Monday, February 8 at 12 noon**\n",
    "\n"
   ]
  },
  {
   "cell_type": "markdown",
   "metadata": {},
   "source": [
    "## [Chapter 4](http://www.greenteapress.com/thinkpython/html/thinkpython005.html)\n",
    "\n",
    "In today's reading, you'll be exploring TurtleWorld!\n",
    "TurtleWorld is part of the [swampy](http://www.greenteapress.com/thinkpython/swampy/) package, written by Allen Downey.\n",
    "As part of the [Get Set](https://sites.google.com/site/sd16spring/home/assignments-and-mini-projects/setup-your-environment) assignment, you installed the swampy package using the pip Python package management tool. If you somehow missed that step or you see errors when you try to import TurtleWorld, you can install swampy by running:\n",
    "\n",
    "```\n",
    "sudo pip install swampy\n",
    "```\n",
    "\n",
    "at the command line.\n",
    "\n",
    "### Turtle wrangling\n",
    "\n",
    "You can always run your code as separate Python scripts, but here are a few tips for mixing TurtleWorld with Jupyter notebook:\n",
    "\n",
    " - TurtleWorld will appear in a new GUI window, rather than inline in the notebook like typical results do\n",
    " - You will not be able to close the TurtleWorld window unless you run `wait_for_user()` as the last line of your code.\n",
    " - Jupyter notebook works like one big Python script, even though it is broken up into sections. This means that you could create a Turtle in one cell, move it in a later cell, and then `wait_for_user()` in yet another. Despite this, it might be easier to treat each cell in this assignment as a separate script, creating a new world at the beginning and destroying it at the end of each."
   ]
  },
  {
   "cell_type": "markdown",
   "metadata": {},
   "source": [
    "### Get started\n",
    "\n",
    "Run the code in the cell below and make sure everything works. You should see brave Alice spring into the world and run forward. You can close the window when you're done by clicking on the 'X'. If this simple test doesn't work, check your swampy install (especially if you get an `ImportError`) and ask for help."
   ]
  },
  {
   "cell_type": "code",
   "execution_count": 7,
   "metadata": {
    "collapsed": true
   },
   "outputs": [],
   "source": [
    "from swampy.TurtleWorld import *\n",
    "\n",
    "# Create the world, and a turtle to put in it\n",
    "world = TurtleWorld()\n",
    "alice = Turtle()\n",
    "\n",
    "# Get moving, turtle!\n",
    "fd(alice, 50)\n",
    "\n",
    "# Wait for the user to close the window\n",
    "wait_for_user()"
   ]
  },
  {
   "cell_type": "markdown",
   "metadata": {
    "is_question": true,
    "problem": "Section 4.3"
   },
   "source": [
    "### Section 4.3 exercises\n",
    "Work through exercises 1-5 in Section 4.3, creating the `square`, `polygon`, `circle`, and `arc` functions. You can reference Allen's solutions, but please try the problems on your own first."
   ]
  },
  {
   "cell_type": "code",
   "execution_count": 1,
   "metadata": {
    "collapsed": false,
    "solution": "Section 4.3"
   },
   "outputs": [],
   "source": [
    "from swampy.TurtleWorld import *\n",
    "import math\n",
    "\n",
    "# Create the world, and a turtle to put in it\n",
    "world = TurtleWorld()\n",
    "frisk = Turtle()\n",
    "\n",
    "def square_func(turtle, length):\n",
    "    # Turtle motion function\n",
    "    pd\n",
    "    for i in range(0,4):\n",
    "        fd(turtle, length)\n",
    "        lt(turtle)\n",
    "    return\n",
    "   \n",
    "def poly_func(turtle, length, sides):\n",
    "    \n",
    "    # Turtle motion function\n",
    "    pd\n",
    "    angle = 360 / sides\n",
    "    \n",
    "    for i in range(0,sides):\n",
    "        fd(turtle, length)\n",
    "        lt(turtle, angle)\n",
    "    return\n",
    "\n",
    "def circ_func(turtle, radius):\n",
    "    turtle.delay = 0.01\n",
    "    circumference = 3.14 * (radius^2)\n",
    "    \n",
    "    # Turtle motion function\n",
    "    pd\n",
    "    length = 5\n",
    "    sides = math.ceil(circumference / length)\n",
    "    angle = 360 / (sides)\n",
    "    sides = int(sides) \n",
    "    for i in range(0,sides):\n",
    "        fd(turtle, length)\n",
    "        lt(turtle, angle)\n",
    "    return\n",
    "\n",
    "def arc_func(turtle, radius, circ_angle):\n",
    "    turtle.delay = 0.01\n",
    "    circumference = 3.14 * (radius^2)\n",
    "    \n",
    "    # Turtle motion function\n",
    "    pd\n",
    "    length = 5\n",
    "    sides = math.ceil(circumference / length)\n",
    "    angle = 360 / (sides)\n",
    "    sides = int((sides * circ_angle)/360)\n",
    "    for i in range(0,sides):\n",
    "        fd(turtle, length)\n",
    "        lt(turtle, angle)\n",
    "    \n",
    "    return\n",
    "\n",
    "#TESTS\n",
    "\n",
    "#square_func(frisk, 50)\n",
    "#poly_func(frisk, 50, 7)\n",
    "#circ_func(frisk, 50)\n",
    "#arc_func(frisk, 100, 270)\n",
    "\n",
    "# Wait for the user to close the window\n",
    "wait_for_user()"
   ]
  },
  {
   "cell_type": "markdown",
   "metadata": {
    "is_question": true,
    "problem": "More fun"
   },
   "source": [
    "### Exercise: More fun with Turtles!\n",
    "Complete at least one of Exercise 2, 3, 4, or 5. If you come up with some cool drawings you'd like to share with the rest of the class, let us know!"
   ]
  },
  {
   "cell_type": "code",
   "execution_count": 5,
   "metadata": {
    "collapsed": false,
    "solution": "More fun"
   },
   "outputs": [],
   "source": [
    "from swampy.TurtleWorld import *\n",
    "\n",
    "# Create the world, and a turtle to put in it\n",
    "world = TurtleWorld()\n",
    "frisk = Turtle()\n",
    "\n",
    "def spiral_func(turtle, a, b):\n",
    "    turtle.delay = 0.01\n",
    "    length = 5\n",
    "    theta = 0.0\n",
    "    \n",
    "    # Turtle motion function\n",
    "    pd\n",
    "    \n",
    "    for i in range(0,100):\n",
    "        fd(turtle, length)\n",
    "        theta_change = 1 / (a + b * theta)\n",
    "        lt(turtle, theta_change)\n",
    "        theta = theta + theta_change\n",
    "     \n",
    "    return\n",
    "\n",
    "spiral_func(frisk, 0.01, 0.0001)\n",
    "\n",
    "# Wait for the user to close the window\n",
    "wait_for_user()"
   ]
  },
  {
   "cell_type": "markdown",
   "metadata": {},
   "source": [
    "## Reading Journal feedback\n",
    "\n",
    "Have any comments on this Reading Journal? Feel free to leave them below and we'll read them when you submit your journal entry. This could include suggestions to improve the exercises, topics you'd like to see covered in class next time, or other feedback.\n",
    "\n",
    "If you have Python questions or run into problems while completing the reading, you should post them to Piazza instead so you can get a quick response before your journal is submitted."
   ]
  },
  {
   "cell_type": "markdown",
   "metadata": {},
   "source": [
    " "
   ]
  }
 ],
 "metadata": {
  "kernelspec": {
   "display_name": "Python 2",
   "language": "python",
   "name": "python2"
  },
  "language_info": {
   "codemirror_mode": {
    "name": "ipython",
    "version": 2
   },
   "file_extension": ".py",
   "mimetype": "text/x-python",
   "name": "python",
   "nbconvert_exporter": "python",
   "pygments_lexer": "ipython2",
   "version": "2.7.6"
  }
 },
 "nbformat": 4,
 "nbformat_minor": 0
}
