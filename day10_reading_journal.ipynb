{
 "cells": [
  {
   "cell_type": "markdown",
   "metadata": {},
   "source": [
    "# Day 10 Reading Journal\n",
    "\n",
    "This journal includes several required exercises, but it is meant to encourage active reading more generally.  You should use the journal to take detailed notes, catalog questions, and explore the content from Think Python deeply.\n",
    "\n",
    "Reading: Think Python Chapter 16, 17\n",
    "\n",
    "**Due: Thursday, February 25 at 12 noon**\n",
    "\n"
   ]
  },
  {
   "cell_type": "markdown",
   "metadata": {},
   "source": [
    "## [Chapter 16](http://www.greenteapress.com/thinkpython/html/thinkpython017.html)\n"
   ]
  },
  {
   "cell_type": "markdown",
   "metadata": {
    "is_question": true,
    "problem": "Exercise 16.2"
   },
   "source": [
    "### Exercise 2  \n",
    "\n",
    "Write a boolean function called `is_after` that takes two `Time` objects, `t1` and `t2`, and returns `True` if `t1` follows `t2` chronologically and `False` otherwise. Challenge: don’t use an `if` statement. "
   ]
  },
  {
   "cell_type": "code",
   "execution_count": 27,
   "metadata": {
    "collapsed": false,
    "solution": "Exercise 16.2"
   },
   "outputs": [
    {
     "data": {
      "text/plain": [
       "True"
      ]
     },
     "execution_count": 27,
     "metadata": {},
     "output_type": "execute_result"
    }
   ],
   "source": [
    "class Time(object):\n",
    "    \"\"\"Checks if time2 occurs after time1.\"\"\"\n",
    "\n",
    "time1 = Time()\n",
    "time2 = Time()\n",
    "\n",
    "time1.hour = 1\n",
    "time1.minute = 40\n",
    "time1.second = 40\n",
    "\n",
    "time2 = Time()\n",
    "time2.hour = 1\n",
    "time2.minute = 10\n",
    "time2.second = 20\n",
    "    \n",
    "def converttosec(time):\n",
    "    return (time.hour * 3600 + time.minute * 60 + time.second)\n",
    "    \n",
    "def is_after(t1, t2):\n",
    "    t1 = converttosec(time1)\n",
    "    t2 = converttosec(time2)\n",
    "    if t1 > t2:\n",
    "        return True\n",
    "    else:\n",
    "        return False\n",
    "    \n",
    "is_after(time1, time2)"
   ]
  },
  {
   "cell_type": "markdown",
   "metadata": {},
   "source": [
    "## [Chapter 17](http://www.greenteapress.com/thinkpython/html/thinkpython018.html)\n",
    "\n",
    "In chapter 17 we finally have the tools to really put user-defined classes to work! In the exercises for this reading journal, we'll go back and add methods to your `Point` class from Chapter 15 to make it a lot easier to use."
   ]
  },
  {
   "cell_type": "markdown",
   "metadata": {
    "is_question": true,
    "problem": "Exercise 17.2"
   },
   "source": [
    "### Exercise 2  \n",
    "\n",
    "Write an init method for the `Point` class that takes `x` and `y` as optional parameters and assigns them to the corresponding attributes. "
   ]
  },
  {
   "cell_type": "code",
   "execution_count": 28,
   "metadata": {
    "collapsed": true,
    "solution": "Exercise 17.2"
   },
   "outputs": [],
   "source": [
    "class Point(object):\n",
    "    \"\"\"A 2D point in space.\"\"\"\n",
    "    def __init__(self, x, y):\n",
    "        self.x = x\n",
    "        self.y = y\n",
    "        return"
   ]
  },
  {
   "cell_type": "markdown",
   "metadata": {
    "is_question": true,
    "problem": "Exercise 17.3"
   },
   "source": [
    "### Exercise 3  \n",
    "\n",
    "Write a str method for the `Point` class. Create a `Point` object and print it."
   ]
  },
  {
   "cell_type": "code",
   "execution_count": 30,
   "metadata": {
    "collapsed": false,
    "solution": "Exercise 17.3"
   },
   "outputs": [
    {
     "name": "stdout",
     "output_type": "stream",
     "text": [
      "Point at x = 1, y = 3\n"
     ]
    }
   ],
   "source": [
    "class Point(object):\n",
    "    \"\"\"A 2D point in space.\"\"\"\n",
    "    def __init__(self, x, y):\n",
    "        self.x = x\n",
    "        self.y = y\n",
    "        return\n",
    "    def __repr__(self):\n",
    "        return \"Point at x = {}, y = {}\".format(self.x, self.y)\n",
    "    \n",
    "point1 = Point(1,3)\n",
    "print point1"
   ]
  },
  {
   "cell_type": "markdown",
   "metadata": {
    "is_question": true,
    "problem": "Exercise 17.4"
   },
   "source": [
    "### Exercise 4  \n",
    "\n",
    "Write an add method for the `Point` class. Optional: implement operator overloading so that you can use the '+' operator."
   ]
  },
  {
   "cell_type": "code",
   "execution_count": 9,
   "metadata": {
    "collapsed": false,
    "solution": "Exercise 17.4"
   },
   "outputs": [
    {
     "name": "stdout",
     "output_type": "stream",
     "text": [
      "Point at x = 1, y = 3\n",
      "Point at x = 1, y = 2\n"
     ]
    },
    {
     "data": {
      "text/plain": [
       "'Resulting point is at x = 2, y = 5'"
      ]
     },
     "execution_count": 9,
     "metadata": {},
     "output_type": "execute_result"
    }
   ],
   "source": [
    "class Point(object):\n",
    "    \"\"\"A 2D point in space.\"\"\"\n",
    "    def __init__(self, x, y):\n",
    "        self.x = x\n",
    "        self.y = y\n",
    "        return\n",
    "    def __repr__(self):\n",
    "        return \"Point at x = {}, y = {}\".format(self.x, self.y)\n",
    "    def __add__(self, other):\n",
    "        self.x = self.x + other.x\n",
    "        self.y = self.y + other.y\n",
    "        return \"Resulting point is at x = {}, y = {}\".format(self.x, self.y)\n",
    "    \n",
    "#The original points\n",
    "point1 = Point(1,3)\n",
    "print point1\n",
    "point2 = Point(1,2)\n",
    "print point2\n",
    "\n",
    "point1 + point2"
   ]
  },
  {
   "cell_type": "markdown",
   "metadata": {
    "is_question": true,
    "problem": "Exercise 17.7"
   },
   "source": [
    "### Exercise 7  \n",
    "\n",
    "This exercise is a cautionary tale about one of the most common, and difficult to find, errors in Python. Write a definition for a class named `Kangaroo` with the following methods:\n",
    "\n",
    " 1. An `__init__` method that initializes an attribute named `pouch_contents` to an empty list.\n",
    " 2. A method named `put_in_pouch` that takes an object of any type and adds it to `pouch_contents`.\n",
    " 3. A `__str__` method that returns a string representation of the `Kangaroo` object and the contents of the pouch.\n",
    "\n",
    "Test your code by creating two `Kangaroo` objects, assigning them to variables named `kanga` and `roo`, and then adding `roo` to the contents of `kanga`’s pouch.\n",
    "\n",
    "Download http://thinkpython.com/code/BadKangaroo.py. It contains a solution to the previous problem with one big, nasty bug. Find and fix the bug.\n",
    "\n",
    "If you get stuck, you can download http://thinkpython.com/code/GoodKangaroo.py, which explains the problem and demonstrates a solution. "
   ]
  },
  {
   "cell_type": "code",
   "execution_count": 43,
   "metadata": {
    "collapsed": false,
    "solution": "Exercise 17.7"
   },
   "outputs": [
    {
     "name": "stdout",
     "output_type": "stream",
     "text": [
      "<__main__.Kangaroo object at 0x7fa301fa11d0> with pouch contents:\n",
      "    'wallet'\n",
      "    'car keys'\n",
      "    <__main__.Kangaroo object at 0x7fa30807bc50>\n",
      "\n",
      "<__main__.Kangaroo object at 0x7fa30807bc50> with pouch contents:\n"
     ]
    }
   ],
   "source": [
    "class Kangaroo(object):\n",
    "    \"\"\"Little confused about why this code is throwing an error when it's literally the exact same thing are the goodKangaroo code.\"\"\"\n",
    "    def __init__(self, contents = None):\n",
    "        if contents == None:\n",
    "            contents = []\n",
    "        self.pouch_contents = contents\n",
    "    \n",
    "    def put_in_pouch(self, object):\n",
    "        self.pouch_contents.append(object)\n",
    "        \n",
    "    def __str__(self): \n",
    "        t = [ object.__str__(self) + ' with pouch contents:' ]\n",
    "        for obj in self.pouch_contents:\n",
    "            s = '    ' + object.__str__(obj)\n",
    "            t.append(s)\n",
    "        return '\\n'.join(t)\n",
    "\n",
    "kanga = Kangaroo()\n",
    "roo = Kangaroo()\n",
    "kanga.put_in_pouch('wallet')\n",
    "kanga.put_in_pouch('car keys')\n",
    "kanga.put_in_pouch(roo)\n",
    "\n",
    "print kanga\n",
    "print ''\n",
    "\n",
    "print roo"
   ]
  },
  {
   "cell_type": "markdown",
   "metadata": {
    "is_question": true,
    "problem": "Time spent"
   },
   "source": [
    "## Quick poll\n",
    "About how long did you spend working on this Reading Journal?"
   ]
  },
  {
   "cell_type": "markdown",
   "metadata": {
    "poll_response": true,
    "solution": "Time spent"
   },
   "source": [
    "2 hours, mostly on the last problem."
   ]
  },
  {
   "cell_type": "markdown",
   "metadata": {
    "is_question": true,
    "problem": "Feedback"
   },
   "source": [
    "## Reading Journal feedback\n",
    "\n",
    "Have any comments on this Reading Journal? Feel free to leave them below and we'll read them when you submit your journal entry. This could include suggestions to improve the exercises, topics you'd like to see covered in class next time, or other feedback.\n",
    "\n",
    "If you have Python questions or run into problems while completing the reading, you should post them to Piazza instead so you can get a quick response before your journal is submitted."
   ]
  },
  {
   "cell_type": "markdown",
   "metadata": {
    "feedback_response": true,
    "solution": "Feedback"
   },
   "source": [
    " "
   ]
  }
 ],
 "metadata": {
  "celltoolbar": "Edit Metadata",
  "kernelspec": {
   "display_name": "Python 2",
   "language": "python",
   "name": "python2"
  },
  "language_info": {
   "codemirror_mode": {
    "name": "ipython",
    "version": 2
   },
   "file_extension": ".py",
   "mimetype": "text/x-python",
   "name": "python",
   "nbconvert_exporter": "python",
   "pygments_lexer": "ipython2",
   "version": "2.7.6"
  }
 },
 "nbformat": 4,
 "nbformat_minor": 0
}
